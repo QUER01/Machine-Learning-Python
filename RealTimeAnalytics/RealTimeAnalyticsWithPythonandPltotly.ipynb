{
 "cells": [
  {
   "cell_type": "markdown",
   "metadata": {},
   "source": [
    "# 1. Import libraries and install if thez don't exist"
   ]
  },
  {
   "cell_type": "code",
   "execution_count": 1,
   "metadata": {
    "collapsed": false
   },
   "outputs": [
    {
     "name": "stdout",
     "output_type": "stream",
     "text": [
      "Requirement already satisfied (use --upgrade to upgrade): plotly in ./anaconda3/lib/python3.5/site-packages\n",
      "Requirement already satisfied (use --upgrade to upgrade): requests in ./anaconda3/lib/python3.5/site-packages (from plotly)\n",
      "Requirement already satisfied (use --upgrade to upgrade): pytz in ./anaconda3/lib/python3.5/site-packages (from plotly)\n",
      "Requirement already satisfied (use --upgrade to upgrade): six in ./anaconda3/lib/python3.5/site-packages (from plotly)\n"
     ]
    },
    {
     "name": "stderr",
     "output_type": "stream",
     "text": [
      "You are using pip version 8.1.2, however version 9.0.0 is available.\n",
      "You should consider upgrading via the 'pip install --upgrade pip' command.\n"
     ]
    },
    {
     "name": "stdout",
     "output_type": "stream",
     "text": [
      "Requirement already satisfied (use --upgrade to upgrade): numpy in ./anaconda3/lib/python3.5/site-packages\n"
     ]
    },
    {
     "name": "stderr",
     "output_type": "stream",
     "text": [
      "You are using pip version 8.1.2, however version 9.0.0 is available.\n",
      "You should consider upgrading via the 'pip install --upgrade pip' command.\n"
     ]
    }
   ],
   "source": [
    "import pip\n",
    "def install(package):\n",
    "    pip.main(['install', package])\n",
    "# Example\n",
    "if __name__ == '__main__':\n",
    "    install('plotly')\n",
    "    install('numpy')\n",
    "\n",
    "\n",
    "import plotly\n",
    "import datetime\n",
    "import time\n",
    "import numpy as np\n",
    "import json\n",
    "import plotly.tools \n",
    "\n"
   ]
  },
  {
   "cell_type": "markdown",
   "metadata": {},
   "source": [
    "# 2. Create a data stream and open the plotly graph"
   ]
  },
  {
   "cell_type": "code",
   "execution_count": 2,
   "metadata": {
    "collapsed": false
   },
   "outputs": [
    {
     "name": "stdout",
     "output_type": "stream",
     "text": [
      "Starting Streaming\n"
     ]
    },
    {
     "data": {
      "text/html": [
       "<iframe id=\"igraph\" scrolling=\"no\" style=\"border:none;\" seamless=\"seamless\" src=\"https://plot.ly/~jquernhe/21.embed\" height=\"525\" width=\"100%\"></iframe>"
      ],
      "text/plain": [
       "<plotly.tools.PlotlyDisplay object>"
      ]
     },
     "execution_count": 2,
     "metadata": {},
     "output_type": "execute_result"
    }
   ],
   "source": [
    "# Fill in the config.json file in this directory with your plotly username,\n",
    "# plotly API key, and your generated plotly streaming tokens\n",
    "# Sign up to plotly here: https://plot.ly/ssu\n",
    "# View your API key and streaming tokens here: https://plot.ly/settings\n",
    "\n",
    "with open('./config.json') as config_file:\n",
    "    plotly_user_config = json.load(config_file)\n",
    "\n",
    "username = plotly_user_config['plotly_username']\n",
    "api_key = plotly_user_config['plotly_api_key']\n",
    "stream_token = plotly_user_config['plotly_streaming_tokens'][2]\n",
    "\n",
    "\n",
    "print(\"Starting Streaming\")\n",
    "# Initialize your plotly object\n",
    "p = plotly.plotly.sign_in(username, api_key)\n",
    "\n",
    "# Initialize your plotly real-time streaming graph with a REST API call\n",
    "# Embed the stream token in one of the traces of a plotly-data object - one token per trace\n",
    "# Also embed 'maxpoints', the number of points that you want plotted at a time\n",
    "\n",
    "# The `iplot` command will embed our plotly graph as an iframe in this notebook\n",
    "# Each plotly graph has a unique url that you can share and anyone can view\n",
    "# your streaming graph in real-time\n",
    "\n",
    "# The unique URL for this graph is https://plot.ly/~streaming-demos/12\n",
    "\n",
    "plotly.plotly.iplot([{'x': [], 'y': [], 'type': 'scatter', 'mode': 'lines+markers',\n",
    "            'stream': {'token': stream_token, 'maxpoints': 80}\n",
    "          }],\n",
    "        filename='Time-Series', fileopt='overwrite')\n",
    "\n",
    "# Now stream! Write to a plotly stream object\n",
    "# Our data will be in the the form:\n",
    "# {'x': x_data, 'y':y_data}\n",
    "# Each point that we yield will get shipped through plotly's servers\n",
    "# to the graph your web-browser, updating it in real-time\n",
    "\n",
    "# Open plot https://plot.ly/~jquernhe/21/#plot\n",
    "plotly.tools.embed(\"https://plot.ly/~jquernhe/21/\")\n",
    "\n",
    "\n",
    "\n",
    "\n"
   ]
  },
  {
   "cell_type": "markdown",
   "metadata": {},
   "source": [
    "# 3. Start the stream"
   ]
  },
  {
   "cell_type": "code",
   "execution_count": 3,
   "metadata": {
    "collapsed": false
   },
   "outputs": [
    {
     "ename": "KeyboardInterrupt",
     "evalue": "",
     "output_type": "error",
     "traceback": [
      "\u001b[1;31m---------------------------------------------------------------------------\u001b[0m",
      "\u001b[1;31mKeyboardInterrupt\u001b[0m                         Traceback (most recent call last)",
      "\u001b[1;32m<ipython-input-3-c8fc2426db9b>\u001b[0m in \u001b[0;36m<module>\u001b[1;34m()\u001b[0m\n\u001b[0;32m     11\u001b[0m \u001b[1;33m\u001b[0m\u001b[0m\n\u001b[0;32m     12\u001b[0m     \u001b[0ms\u001b[0m\u001b[1;33m.\u001b[0m\u001b[0mwrite\u001b[0m\u001b[1;33m(\u001b[0m\u001b[1;33m{\u001b[0m\u001b[1;34m'x'\u001b[0m\u001b[1;33m:\u001b[0m \u001b[0mx_data_point\u001b[0m\u001b[1;33m,\u001b[0m \u001b[1;34m'y'\u001b[0m\u001b[1;33m:\u001b[0m \u001b[0my_data_point\u001b[0m\u001b[1;33m}\u001b[0m\u001b[1;33m)\u001b[0m\u001b[1;33m\u001b[0m\u001b[0m\n\u001b[1;32m---> 13\u001b[1;33m     \u001b[0mtime\u001b[0m\u001b[1;33m.\u001b[0m\u001b[0msleep\u001b[0m\u001b[1;33m(\u001b[0m\u001b[1;36m80.\u001b[0m \u001b[1;33m/\u001b[0m \u001b[1;36m1000.\u001b[0m\u001b[1;33m)\u001b[0m\u001b[1;33m\u001b[0m\u001b[0m\n\u001b[0m\u001b[0;32m     14\u001b[0m \u001b[1;33m\u001b[0m\u001b[0m\n\u001b[0;32m     15\u001b[0m \u001b[1;33m\u001b[0m\u001b[0m\n",
      "\u001b[1;31mKeyboardInterrupt\u001b[0m: "
     ]
    }
   ],
   "source": [
    "\n",
    "s = plotly.plotly.Stream(stream_token)\n",
    "s.open()\n",
    "i = 0\n",
    "k = 5\n",
    "while True:\n",
    "    i += 1\n",
    "    # log current time and a random number\n",
    "    x_data_point = datetime.datetime.now().strftime('%Y-%m-%d %H:%M:%S.%f')\n",
    "    y_data_point = (np.cos(k * i / 50.) * np.cos(i / 50.) + np.random.randn(1))[0]\n",
    "\n",
    "    s.write({'x': x_data_point, 'y': y_data_point})\n",
    "    time.sleep(80. / 1000.)\n",
    "    \n",
    "\n",
    "s.close()"
   ]
  },
  {
   "cell_type": "code",
   "execution_count": null,
   "metadata": {
    "collapsed": true
   },
   "outputs": [],
   "source": []
  }
 ],
 "metadata": {
  "kernelspec": {
   "display_name": "Python 3",
   "language": "python",
   "name": "python3"
  },
  "language_info": {
   "codemirror_mode": {
    "name": "ipython",
    "version": 3
   },
   "file_extension": ".py",
   "mimetype": "text/x-python",
   "name": "python",
   "nbconvert_exporter": "python",
   "pygments_lexer": "ipython3",
   "version": "3.5.2"
  }
 },
 "nbformat": 4,
 "nbformat_minor": 0
}
